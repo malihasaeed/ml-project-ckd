{
 "cells": [
  {
   "cell_type": "code",
   "execution_count": 1,
   "id": "c8ef6849",
   "metadata": {},
   "outputs": [],
   "source": [
    "import pandas as pd"
   ]
  },
  {
   "cell_type": "code",
   "execution_count": 4,
   "id": "ec3faa11",
   "metadata": {},
   "outputs": [
    {
     "data": {
      "text/html": [
       "<div>\n",
       "<style scoped>\n",
       "    .dataframe tbody tr th:only-of-type {\n",
       "        vertical-align: middle;\n",
       "    }\n",
       "\n",
       "    .dataframe tbody tr th {\n",
       "        vertical-align: top;\n",
       "    }\n",
       "\n",
       "    .dataframe thead th {\n",
       "        text-align: right;\n",
       "    }\n",
       "</style>\n",
       "<table border=\"1\" class=\"dataframe\">\n",
       "  <thead>\n",
       "    <tr style=\"text-align: right;\">\n",
       "      <th></th>\n",
       "      <th>age</th>\n",
       "      <th>gender</th>\n",
       "      <th>blood_pressure</th>\n",
       "      <th>specific_gravity</th>\n",
       "      <th>albumin</th>\n",
       "      <th>sugar</th>\n",
       "      <th>pus_cell</th>\n",
       "      <th>pus_cell_clumps</th>\n",
       "      <th>bacteria</th>\n",
       "      <th>blood_glucose_random</th>\n",
       "      <th>...</th>\n",
       "      <th>packed_cell_volume</th>\n",
       "      <th>white_blood_cell_count</th>\n",
       "      <th>red_blood_cell_count</th>\n",
       "      <th>hypertension</th>\n",
       "      <th>diabetes_mellitus</th>\n",
       "      <th>coronary_artery_disease</th>\n",
       "      <th>appetite</th>\n",
       "      <th>anemia</th>\n",
       "      <th>pedal_edema</th>\n",
       "      <th>ckd</th>\n",
       "    </tr>\n",
       "  </thead>\n",
       "  <tbody>\n",
       "    <tr>\n",
       "      <th>0</th>\n",
       "      <td>62</td>\n",
       "      <td>female</td>\n",
       "      <td>50.0</td>\n",
       "      <td>1.020</td>\n",
       "      <td>4</td>\n",
       "      <td>4</td>\n",
       "      <td>normal</td>\n",
       "      <td>absent</td>\n",
       "      <td>absent</td>\n",
       "      <td>98.1</td>\n",
       "      <td>...</td>\n",
       "      <td>38.3</td>\n",
       "      <td>10132</td>\n",
       "      <td>5.8</td>\n",
       "      <td>yes</td>\n",
       "      <td>yes</td>\n",
       "      <td>yes</td>\n",
       "      <td>good</td>\n",
       "      <td>yes</td>\n",
       "      <td>no</td>\n",
       "      <td>1</td>\n",
       "    </tr>\n",
       "    <tr>\n",
       "      <th>1</th>\n",
       "      <td>44</td>\n",
       "      <td>female</td>\n",
       "      <td>90.4</td>\n",
       "      <td>1.010</td>\n",
       "      <td>1</td>\n",
       "      <td>0</td>\n",
       "      <td>normal</td>\n",
       "      <td>absent</td>\n",
       "      <td>absent</td>\n",
       "      <td>186.2</td>\n",
       "      <td>...</td>\n",
       "      <td>41.0</td>\n",
       "      <td>6703</td>\n",
       "      <td>6.0</td>\n",
       "      <td>yes</td>\n",
       "      <td>yes</td>\n",
       "      <td>no</td>\n",
       "      <td>good</td>\n",
       "      <td>yes</td>\n",
       "      <td>no</td>\n",
       "      <td>0</td>\n",
       "    </tr>\n",
       "    <tr>\n",
       "      <th>2</th>\n",
       "      <td>20</td>\n",
       "      <td>male</td>\n",
       "      <td>65.1</td>\n",
       "      <td>1.010</td>\n",
       "      <td>0</td>\n",
       "      <td>0</td>\n",
       "      <td>normal</td>\n",
       "      <td>absent</td>\n",
       "      <td>absent</td>\n",
       "      <td>201.3</td>\n",
       "      <td>...</td>\n",
       "      <td>36.5</td>\n",
       "      <td>6712</td>\n",
       "      <td>5.6</td>\n",
       "      <td>yes</td>\n",
       "      <td>no</td>\n",
       "      <td>no</td>\n",
       "      <td>good</td>\n",
       "      <td>no</td>\n",
       "      <td>no</td>\n",
       "      <td>0</td>\n",
       "    </tr>\n",
       "    <tr>\n",
       "      <th>3</th>\n",
       "      <td>66</td>\n",
       "      <td>female</td>\n",
       "      <td>99.1</td>\n",
       "      <td>1.025</td>\n",
       "      <td>2</td>\n",
       "      <td>0</td>\n",
       "      <td>normal</td>\n",
       "      <td>absent</td>\n",
       "      <td>absent</td>\n",
       "      <td>151.9</td>\n",
       "      <td>...</td>\n",
       "      <td>38.1</td>\n",
       "      <td>5327</td>\n",
       "      <td>5.7</td>\n",
       "      <td>no</td>\n",
       "      <td>yes</td>\n",
       "      <td>yes</td>\n",
       "      <td>good</td>\n",
       "      <td>yes</td>\n",
       "      <td>no</td>\n",
       "      <td>0</td>\n",
       "    </tr>\n",
       "    <tr>\n",
       "      <th>4</th>\n",
       "      <td>54</td>\n",
       "      <td>male</td>\n",
       "      <td>70.2</td>\n",
       "      <td>1.020</td>\n",
       "      <td>1</td>\n",
       "      <td>0</td>\n",
       "      <td>normal</td>\n",
       "      <td>absent</td>\n",
       "      <td>absent</td>\n",
       "      <td>163.7</td>\n",
       "      <td>...</td>\n",
       "      <td>31.4</td>\n",
       "      <td>6573</td>\n",
       "      <td>3.9</td>\n",
       "      <td>yes</td>\n",
       "      <td>yes</td>\n",
       "      <td>no</td>\n",
       "      <td>good</td>\n",
       "      <td>yes</td>\n",
       "      <td>no</td>\n",
       "      <td>0</td>\n",
       "    </tr>\n",
       "  </tbody>\n",
       "</table>\n",
       "<p>5 rows × 25 columns</p>\n",
       "</div>"
      ],
      "text/plain": [
       "   age  gender  blood_pressure  specific_gravity  albumin  sugar pus_cell  \\\n",
       "0   62  female            50.0             1.020        4      4   normal   \n",
       "1   44  female            90.4             1.010        1      0   normal   \n",
       "2   20    male            65.1             1.010        0      0   normal   \n",
       "3   66  female            99.1             1.025        2      0   normal   \n",
       "4   54    male            70.2             1.020        1      0   normal   \n",
       "\n",
       "  pus_cell_clumps bacteria  blood_glucose_random  ...  packed_cell_volume  \\\n",
       "0          absent   absent                  98.1  ...                38.3   \n",
       "1          absent   absent                 186.2  ...                41.0   \n",
       "2          absent   absent                 201.3  ...                36.5   \n",
       "3          absent   absent                 151.9  ...                38.1   \n",
       "4          absent   absent                 163.7  ...                31.4   \n",
       "\n",
       "   white_blood_cell_count  red_blood_cell_count  hypertension  \\\n",
       "0                   10132                   5.8           yes   \n",
       "1                    6703                   6.0           yes   \n",
       "2                    6712                   5.6           yes   \n",
       "3                    5327                   5.7            no   \n",
       "4                    6573                   3.9           yes   \n",
       "\n",
       "   diabetes_mellitus  coronary_artery_disease  appetite  anemia pedal_edema  \\\n",
       "0                yes                      yes      good     yes          no   \n",
       "1                yes                       no      good     yes          no   \n",
       "2                 no                       no      good      no          no   \n",
       "3                yes                      yes      good     yes          no   \n",
       "4                yes                       no      good     yes          no   \n",
       "\n",
       "  ckd  \n",
       "0   1  \n",
       "1   0  \n",
       "2   0  \n",
       "3   0  \n",
       "4   0  \n",
       "\n",
       "[5 rows x 25 columns]"
      ]
     },
     "execution_count": 4,
     "metadata": {},
     "output_type": "execute_result"
    }
   ],
   "source": [
    "\n",
    "# Load dataset\n",
    "df = pd.read_csv(r\"C:\\Users\\malih\\ml-project-ckd\\Chronic_Kidney_disease_dataset.csv\")\n",
    "\n",
    "# Show the first 5 rows as a dataframe\n",
    "df.head()\n"
   ]
  },
  {
   "cell_type": "markdown",
   "id": "ed4a02be",
   "metadata": {},
   "source": [
    "EDA\n"
   ]
  },
  {
   "cell_type": "code",
   "execution_count": 6,
   "id": "4f221f33",
   "metadata": {},
   "outputs": [
    {
     "name": "stdout",
     "output_type": "stream",
     "text": [
      "<class 'pandas.core.frame.DataFrame'>\n",
      "RangeIndex: 30000 entries, 0 to 29999\n",
      "Data columns (total 25 columns):\n",
      " #   Column                   Non-Null Count  Dtype  \n",
      "---  ------                   --------------  -----  \n",
      " 0   age                      30000 non-null  int64  \n",
      " 1   gender                   30000 non-null  object \n",
      " 2   blood_pressure           30000 non-null  float64\n",
      " 3   specific_gravity         30000 non-null  float64\n",
      " 4   albumin                  30000 non-null  int64  \n",
      " 5   sugar                    30000 non-null  int64  \n",
      " 6   pus_cell                 30000 non-null  object \n",
      " 7   pus_cell_clumps          30000 non-null  object \n",
      " 8   bacteria                 30000 non-null  object \n",
      " 9   blood_glucose_random     30000 non-null  float64\n",
      " 10  blood_urea               30000 non-null  float64\n",
      " 11  serum_creatinine         30000 non-null  float64\n",
      " 12  sodium                   30000 non-null  float64\n",
      " 13  potassium                30000 non-null  float64\n",
      " 14  hemoglobin               30000 non-null  float64\n",
      " 15  packed_cell_volume       30000 non-null  float64\n",
      " 16  white_blood_cell_count   30000 non-null  int64  \n",
      " 17  red_blood_cell_count     30000 non-null  float64\n",
      " 18  hypertension             30000 non-null  object \n",
      " 19  diabetes_mellitus        30000 non-null  object \n",
      " 20  coronary_artery_disease  30000 non-null  object \n",
      " 21  appetite                 30000 non-null  object \n",
      " 22  anemia                   30000 non-null  object \n",
      " 23  pedal_edema              30000 non-null  object \n",
      " 24  ckd                      30000 non-null  int64  \n",
      "dtypes: float64(10), int64(5), object(10)\n",
      "memory usage: 5.7+ MB\n"
     ]
    },
    {
     "data": {
      "text/html": [
       "<div>\n",
       "<style scoped>\n",
       "    .dataframe tbody tr th:only-of-type {\n",
       "        vertical-align: middle;\n",
       "    }\n",
       "\n",
       "    .dataframe tbody tr th {\n",
       "        vertical-align: top;\n",
       "    }\n",
       "\n",
       "    .dataframe thead th {\n",
       "        text-align: right;\n",
       "    }\n",
       "</style>\n",
       "<table border=\"1\" class=\"dataframe\">\n",
       "  <thead>\n",
       "    <tr style=\"text-align: right;\">\n",
       "      <th></th>\n",
       "      <th>age</th>\n",
       "      <th>gender</th>\n",
       "      <th>blood_pressure</th>\n",
       "      <th>specific_gravity</th>\n",
       "      <th>albumin</th>\n",
       "      <th>sugar</th>\n",
       "      <th>pus_cell</th>\n",
       "      <th>pus_cell_clumps</th>\n",
       "      <th>bacteria</th>\n",
       "      <th>blood_glucose_random</th>\n",
       "      <th>...</th>\n",
       "      <th>packed_cell_volume</th>\n",
       "      <th>white_blood_cell_count</th>\n",
       "      <th>red_blood_cell_count</th>\n",
       "      <th>hypertension</th>\n",
       "      <th>diabetes_mellitus</th>\n",
       "      <th>coronary_artery_disease</th>\n",
       "      <th>appetite</th>\n",
       "      <th>anemia</th>\n",
       "      <th>pedal_edema</th>\n",
       "      <th>ckd</th>\n",
       "    </tr>\n",
       "  </thead>\n",
       "  <tbody>\n",
       "    <tr>\n",
       "      <th>29990</th>\n",
       "      <td>55</td>\n",
       "      <td>male</td>\n",
       "      <td>99.6</td>\n",
       "      <td>1.010</td>\n",
       "      <td>2</td>\n",
       "      <td>2</td>\n",
       "      <td>normal</td>\n",
       "      <td>absent</td>\n",
       "      <td>absent</td>\n",
       "      <td>89.6</td>\n",
       "      <td>...</td>\n",
       "      <td>39.8</td>\n",
       "      <td>7764</td>\n",
       "      <td>5.0</td>\n",
       "      <td>no</td>\n",
       "      <td>no</td>\n",
       "      <td>yes</td>\n",
       "      <td>good</td>\n",
       "      <td>no</td>\n",
       "      <td>no</td>\n",
       "      <td>0</td>\n",
       "    </tr>\n",
       "    <tr>\n",
       "      <th>29991</th>\n",
       "      <td>41</td>\n",
       "      <td>female</td>\n",
       "      <td>94.0</td>\n",
       "      <td>1.020</td>\n",
       "      <td>3</td>\n",
       "      <td>0</td>\n",
       "      <td>normal</td>\n",
       "      <td>absent</td>\n",
       "      <td>absent</td>\n",
       "      <td>154.2</td>\n",
       "      <td>...</td>\n",
       "      <td>34.4</td>\n",
       "      <td>10812</td>\n",
       "      <td>6.3</td>\n",
       "      <td>yes</td>\n",
       "      <td>no</td>\n",
       "      <td>no</td>\n",
       "      <td>good</td>\n",
       "      <td>no</td>\n",
       "      <td>no</td>\n",
       "      <td>1</td>\n",
       "    </tr>\n",
       "    <tr>\n",
       "      <th>29992</th>\n",
       "      <td>70</td>\n",
       "      <td>male</td>\n",
       "      <td>50.0</td>\n",
       "      <td>1.020</td>\n",
       "      <td>4</td>\n",
       "      <td>0</td>\n",
       "      <td>normal</td>\n",
       "      <td>absent</td>\n",
       "      <td>absent</td>\n",
       "      <td>59.7</td>\n",
       "      <td>...</td>\n",
       "      <td>39.3</td>\n",
       "      <td>4972</td>\n",
       "      <td>5.1</td>\n",
       "      <td>no</td>\n",
       "      <td>yes</td>\n",
       "      <td>no</td>\n",
       "      <td>good</td>\n",
       "      <td>no</td>\n",
       "      <td>no</td>\n",
       "      <td>1</td>\n",
       "    </tr>\n",
       "    <tr>\n",
       "      <th>29993</th>\n",
       "      <td>52</td>\n",
       "      <td>female</td>\n",
       "      <td>65.0</td>\n",
       "      <td>1.005</td>\n",
       "      <td>2</td>\n",
       "      <td>1</td>\n",
       "      <td>normal</td>\n",
       "      <td>absent</td>\n",
       "      <td>absent</td>\n",
       "      <td>173.8</td>\n",
       "      <td>...</td>\n",
       "      <td>47.6</td>\n",
       "      <td>9588</td>\n",
       "      <td>6.1</td>\n",
       "      <td>no</td>\n",
       "      <td>yes</td>\n",
       "      <td>yes</td>\n",
       "      <td>poor</td>\n",
       "      <td>yes</td>\n",
       "      <td>no</td>\n",
       "      <td>0</td>\n",
       "    </tr>\n",
       "    <tr>\n",
       "      <th>29994</th>\n",
       "      <td>73</td>\n",
       "      <td>male</td>\n",
       "      <td>87.6</td>\n",
       "      <td>1.015</td>\n",
       "      <td>1</td>\n",
       "      <td>0</td>\n",
       "      <td>normal</td>\n",
       "      <td>absent</td>\n",
       "      <td>absent</td>\n",
       "      <td>221.6</td>\n",
       "      <td>...</td>\n",
       "      <td>41.1</td>\n",
       "      <td>11920</td>\n",
       "      <td>5.7</td>\n",
       "      <td>no</td>\n",
       "      <td>yes</td>\n",
       "      <td>no</td>\n",
       "      <td>good</td>\n",
       "      <td>yes</td>\n",
       "      <td>no</td>\n",
       "      <td>1</td>\n",
       "    </tr>\n",
       "    <tr>\n",
       "      <th>29995</th>\n",
       "      <td>41</td>\n",
       "      <td>male</td>\n",
       "      <td>81.6</td>\n",
       "      <td>1.025</td>\n",
       "      <td>5</td>\n",
       "      <td>1</td>\n",
       "      <td>normal</td>\n",
       "      <td>present</td>\n",
       "      <td>absent</td>\n",
       "      <td>169.7</td>\n",
       "      <td>...</td>\n",
       "      <td>44.6</td>\n",
       "      <td>10646</td>\n",
       "      <td>4.6</td>\n",
       "      <td>yes</td>\n",
       "      <td>no</td>\n",
       "      <td>no</td>\n",
       "      <td>poor</td>\n",
       "      <td>yes</td>\n",
       "      <td>no</td>\n",
       "      <td>0</td>\n",
       "    </tr>\n",
       "    <tr>\n",
       "      <th>29996</th>\n",
       "      <td>42</td>\n",
       "      <td>female</td>\n",
       "      <td>81.7</td>\n",
       "      <td>1.025</td>\n",
       "      <td>2</td>\n",
       "      <td>1</td>\n",
       "      <td>normal</td>\n",
       "      <td>absent</td>\n",
       "      <td>absent</td>\n",
       "      <td>76.4</td>\n",
       "      <td>...</td>\n",
       "      <td>47.0</td>\n",
       "      <td>10273</td>\n",
       "      <td>5.2</td>\n",
       "      <td>no</td>\n",
       "      <td>no</td>\n",
       "      <td>no</td>\n",
       "      <td>good</td>\n",
       "      <td>no</td>\n",
       "      <td>yes</td>\n",
       "      <td>1</td>\n",
       "    </tr>\n",
       "    <tr>\n",
       "      <th>29997</th>\n",
       "      <td>37</td>\n",
       "      <td>male</td>\n",
       "      <td>79.2</td>\n",
       "      <td>1.015</td>\n",
       "      <td>2</td>\n",
       "      <td>0</td>\n",
       "      <td>normal</td>\n",
       "      <td>present</td>\n",
       "      <td>absent</td>\n",
       "      <td>103.4</td>\n",
       "      <td>...</td>\n",
       "      <td>33.8</td>\n",
       "      <td>9689</td>\n",
       "      <td>4.7</td>\n",
       "      <td>no</td>\n",
       "      <td>no</td>\n",
       "      <td>yes</td>\n",
       "      <td>good</td>\n",
       "      <td>no</td>\n",
       "      <td>no</td>\n",
       "      <td>0</td>\n",
       "    </tr>\n",
       "    <tr>\n",
       "      <th>29998</th>\n",
       "      <td>61</td>\n",
       "      <td>male</td>\n",
       "      <td>68.4</td>\n",
       "      <td>1.025</td>\n",
       "      <td>1</td>\n",
       "      <td>2</td>\n",
       "      <td>normal</td>\n",
       "      <td>absent</td>\n",
       "      <td>absent</td>\n",
       "      <td>191.3</td>\n",
       "      <td>...</td>\n",
       "      <td>48.7</td>\n",
       "      <td>6699</td>\n",
       "      <td>3.9</td>\n",
       "      <td>no</td>\n",
       "      <td>no</td>\n",
       "      <td>no</td>\n",
       "      <td>good</td>\n",
       "      <td>yes</td>\n",
       "      <td>no</td>\n",
       "      <td>0</td>\n",
       "    </tr>\n",
       "    <tr>\n",
       "      <th>29999</th>\n",
       "      <td>52</td>\n",
       "      <td>female</td>\n",
       "      <td>122.2</td>\n",
       "      <td>1.015</td>\n",
       "      <td>2</td>\n",
       "      <td>0</td>\n",
       "      <td>normal</td>\n",
       "      <td>absent</td>\n",
       "      <td>absent</td>\n",
       "      <td>113.2</td>\n",
       "      <td>...</td>\n",
       "      <td>42.8</td>\n",
       "      <td>7791</td>\n",
       "      <td>4.8</td>\n",
       "      <td>no</td>\n",
       "      <td>no</td>\n",
       "      <td>no</td>\n",
       "      <td>good</td>\n",
       "      <td>yes</td>\n",
       "      <td>yes</td>\n",
       "      <td>0</td>\n",
       "    </tr>\n",
       "  </tbody>\n",
       "</table>\n",
       "<p>10 rows × 25 columns</p>\n",
       "</div>"
      ],
      "text/plain": [
       "       age  gender  blood_pressure  specific_gravity  albumin  sugar pus_cell  \\\n",
       "29990   55    male            99.6             1.010        2      2   normal   \n",
       "29991   41  female            94.0             1.020        3      0   normal   \n",
       "29992   70    male            50.0             1.020        4      0   normal   \n",
       "29993   52  female            65.0             1.005        2      1   normal   \n",
       "29994   73    male            87.6             1.015        1      0   normal   \n",
       "29995   41    male            81.6             1.025        5      1   normal   \n",
       "29996   42  female            81.7             1.025        2      1   normal   \n",
       "29997   37    male            79.2             1.015        2      0   normal   \n",
       "29998   61    male            68.4             1.025        1      2   normal   \n",
       "29999   52  female           122.2             1.015        2      0   normal   \n",
       "\n",
       "      pus_cell_clumps bacteria  blood_glucose_random  ...  packed_cell_volume  \\\n",
       "29990          absent   absent                  89.6  ...                39.8   \n",
       "29991          absent   absent                 154.2  ...                34.4   \n",
       "29992          absent   absent                  59.7  ...                39.3   \n",
       "29993          absent   absent                 173.8  ...                47.6   \n",
       "29994          absent   absent                 221.6  ...                41.1   \n",
       "29995         present   absent                 169.7  ...                44.6   \n",
       "29996          absent   absent                  76.4  ...                47.0   \n",
       "29997         present   absent                 103.4  ...                33.8   \n",
       "29998          absent   absent                 191.3  ...                48.7   \n",
       "29999          absent   absent                 113.2  ...                42.8   \n",
       "\n",
       "       white_blood_cell_count  red_blood_cell_count  hypertension  \\\n",
       "29990                    7764                   5.0            no   \n",
       "29991                   10812                   6.3           yes   \n",
       "29992                    4972                   5.1            no   \n",
       "29993                    9588                   6.1            no   \n",
       "29994                   11920                   5.7            no   \n",
       "29995                   10646                   4.6           yes   \n",
       "29996                   10273                   5.2            no   \n",
       "29997                    9689                   4.7            no   \n",
       "29998                    6699                   3.9            no   \n",
       "29999                    7791                   4.8            no   \n",
       "\n",
       "       diabetes_mellitus  coronary_artery_disease  appetite  anemia  \\\n",
       "29990                 no                      yes      good      no   \n",
       "29991                 no                       no      good      no   \n",
       "29992                yes                       no      good      no   \n",
       "29993                yes                      yes      poor     yes   \n",
       "29994                yes                       no      good     yes   \n",
       "29995                 no                       no      poor     yes   \n",
       "29996                 no                       no      good      no   \n",
       "29997                 no                      yes      good      no   \n",
       "29998                 no                       no      good     yes   \n",
       "29999                 no                       no      good     yes   \n",
       "\n",
       "      pedal_edema ckd  \n",
       "29990          no   0  \n",
       "29991          no   1  \n",
       "29992          no   1  \n",
       "29993          no   0  \n",
       "29994          no   1  \n",
       "29995          no   0  \n",
       "29996         yes   1  \n",
       "29997          no   0  \n",
       "29998          no   0  \n",
       "29999         yes   0  \n",
       "\n",
       "[10 rows x 25 columns]"
      ]
     },
     "execution_count": 6,
     "metadata": {},
     "output_type": "execute_result"
    }
   ],
   "source": [
    "\n",
    "df.shape  \n",
    "df.columns  #col names\n",
    "df.info()  #data type and null values\n",
    "df.describe()  #numerical value stats\n",
    "df.isnull().sum()  #counting missing values\n",
    "df.head(10)  \n",
    "df.tail(10)  \n"
   ]
  },
  {
   "cell_type": "markdown",
   "id": "c225174e",
   "metadata": {},
   "source": [
    "count of CKD vs Non-CKD patients:"
   ]
  },
  {
   "cell_type": "code",
   "execution_count": 7,
   "id": "f5e72122",
   "metadata": {},
   "outputs": [
    {
     "data": {
      "text/plain": [
       "ckd\n",
       "0    25032\n",
       "1     4968\n",
       "Name: count, dtype: int64"
      ]
     },
     "execution_count": 7,
     "metadata": {},
     "output_type": "execute_result"
    }
   ],
   "source": [
    "# Count how many CKD (1) and Non-CKD (0) in dataset\n",
    "df['ckd'].value_counts()\n"
   ]
  },
  {
   "cell_type": "code",
   "execution_count": 9,
   "id": "da4fed53",
   "metadata": {},
   "outputs": [
    {
     "data": {
      "image/png": "[encoded data removed]",
      "text/plain": [
       "<Figure size 640x480 with 1 Axes>"
      ]
     },
     "metadata": {},
     "output_type": "display_data"
    }
   ],
   "source": [
    "import matplotlib.pyplot as plt  \n",
    "\n",
    "df['ckd'].value_counts().plot(kind='bar')\n",
    "plt.xlabel(\"CKD Status (0 = Non-CKD, 1 = CKD)\")\n",
    "plt.ylabel(\"Number of Patients\")\n",
    "plt.title(\"CKD vs Non-CKD Patients\")\n",
    "plt.show()\n"
   ]
  },
  {
   "cell_type": "code",
   "execution_count": 10,
   "id": "fd3ebb54",
   "metadata": {},
   "outputs": [
    {
     "data": {
      "text/plain": [
       "<Axes: xlabel='ckd'>"
      ]
     },
     "execution_count": 10,
     "metadata": {},
     "output_type": "execute_result"
    },
    {
     "data": {
      "image/png": "[encoded data removed]",
      "text/plain": [
       "<Figure size 640x480 with 1 Axes>"
      ]
     },
     "metadata": {},
     "output_type": "display_data"
    }
   ],
   "source": [
    "# Simple bar plot for CKD status (0 = Non-CKD, 1 = CKD)\n",
    "df['ckd'].value_counts().plot(kind='bar')\n"
   ]
  },
  {
   "cell_type": "code",
   "execution_count": 11,
   "id": "ebdec4f7",
   "metadata": {},
   "outputs": [
    {
     "data": {
      "text/plain": [
       "<Axes: >"
      ]
     },
     "execution_count": 11,
     "metadata": {},
     "output_type": "execute_result"
    },
    {
     "data": {
      "image/png": "[encoded data removed]",
      "text/plain": [
       "<Figure size 640x480 with 1 Axes>"
      ]
     },
     "metadata": {},
     "output_type": "display_data"
    }
   ],
   "source": [
    "# Histogram of blood pressure\n",
    "df['blood_pressure'].hist()\n"
   ]
  },
  {
   "cell_type": "code",
   "execution_count": 12,
   "id": "f453cee7",
   "metadata": {},
   "outputs": [
    {
     "data": {
      "text/plain": [
       "<Axes: xlabel='ckd'>"
      ]
     },
     "execution_count": 12,
     "metadata": {},
     "output_type": "execute_result"
    },
    {
     "data": {
      "image/png": "[encoded data removed]",
      "text/plain": [
       "<Figure size 640x480 with 1 Axes>"
      ]
     },
     "metadata": {},
     "output_type": "display_data"
    }
   ],
   "source": [
    "# Average serum creatinine for CKD vs Non-CKD\n",
    "df.groupby('ckd')['serum_creatinine'].mean().plot(kind='bar')\n"
   ]
  },
  {
   "cell_type": "markdown",
   "id": "1833fc47",
   "metadata": {},
   "source": [
    "encoding categorical col\n"
   ]
  },
  {
   "cell_type": "code",
   "execution_count": 13,
   "id": "8e9dac86",
   "metadata": {},
   "outputs": [],
   "source": [
    "# convert yes/no or normal/abnormal to 1/0\n",
    "binary_cols = ['hypertension', 'diabetes_mellitus', 'coronary_artery_disease', \n",
    "               'appetite', 'anemia', 'pedal_edema', 'pus_cell', 'pus_cell_clumps', 'bacteria']\n",
    "\n",
    "for col in binary_cols:\n",
    "    df[col] = df[col].map({'yes':1, 'no':0, 'good':1, 'poor':0, 'normal':0, 'abnormal':1, 'absent':0, 'present':1})\n",
    "\n",
    "# Convert gender: male=1, female=0\n",
    "df['gender'] = df['gender'].map({'male':1, 'female':0})\n"
   ]
  },
  {
   "cell_type": "markdown",
   "id": "518aebdb",
   "metadata": {},
   "source": [
    "checking again-eda"
   ]
  },
  {
   "cell_type": "code",
   "execution_count": 14,
   "id": "7ad571fa",
   "metadata": {},
   "outputs": [
    {
     "data": {
      "image/png": "[encoded data removed]",
      "text/plain": [
       "<Figure size 640x480 with 1 Axes>"
      ]
     },
     "metadata": {},
     "output_type": "display_data"
    }
   ],
   "source": [
    "# Check CKD distribution\n",
    "df['ckd'].value_counts()\n",
    "\n",
    "# Plot simple bar chart\n",
    "import matplotlib.pyplot as plt\n",
    "\n",
    "df['ckd'].value_counts().plot(kind='bar', color=['skyblue','salmon'])\n",
    "plt.xlabel(\"CKD Status (0=Non-CKD, 1=CKD)\")\n",
    "plt.ylabel(\"Number of patients\")\n",
    "plt.show()\n"
   ]
  },
  {
   "cell_type": "markdown",
   "id": "c96eecc9",
   "metadata": {},
   "source": [
    "spliting data "
   ]
  },
  {
   "cell_type": "code",
   "execution_count": 15,
   "id": "a9758355",
   "metadata": {},
   "outputs": [],
   "source": [
    "from sklearn.model_selection import train_test_split\n",
    "\n",
    "# Features and target\n",
    "X = df.drop('ckd', axis=1)\n",
    "y = df['ckd']\n",
    "\n",
    "# Split 80% train, 20% test\n",
    "X_train, X_test, y_train, y_test = train_test_split(X, y, test_size=0.2, random_state=42)\n"
   ]
  },
  {
   "cell_type": "markdown",
   "id": "67e522fd",
   "metadata": {},
   "source": [
    "logistic regression"
   ]
  },
  {
   "cell_type": "code",
   "execution_count": 16,
   "id": "4cc2b980",
   "metadata": {},
   "outputs": [
    {
     "name": "stdout",
     "output_type": "stream",
     "text": [
      "Accuracy: 0.884\n",
      "Confusion Matrix:\n",
      " [[4815  159]\n",
      " [ 537  489]]\n",
      "Classification Report:\n",
      "               precision    recall  f1-score   support\n",
      "\n",
      "           0       0.90      0.97      0.93      4974\n",
      "           1       0.75      0.48      0.58      1026\n",
      "\n",
      "    accuracy                           0.88      6000\n",
      "   macro avg       0.83      0.72      0.76      6000\n",
      "weighted avg       0.87      0.88      0.87      6000\n",
      "\n"
     ]
    },
    {
     "name": "stderr",
     "output_type": "stream",
     "text": [
      "c:\\Users\\malih\\ml-project-ckd\\ml_virtualenv\\Lib\\site-packages\\sklearn\\linear_model\\_logistic.py:473: ConvergenceWarning: lbfgs failed to converge after 1000 iteration(s) (status=1):\n",
      "STOP: TOTAL NO. OF ITERATIONS REACHED LIMIT\n",
      "\n",
      "Increase the number of iterations to improve the convergence (max_iter=1000).\n",
      "You might also want to scale the data as shown in:\n",
      "    https://scikit-learn.org/stable/modules/preprocessing.html\n",
      "Please also refer to the documentation for alternative solver options:\n",
      "    https://scikit-learn.org/stable/modules/linear_model.html#logistic-regression\n",
      "  n_iter_i = _check_optimize_result(\n"
     ]
    }
   ],
   "source": [
    "from sklearn.linear_model import LogisticRegression\n",
    "from sklearn.metrics import accuracy_score, confusion_matrix, classification_report\n",
    "\n",
    "# Train\n",
    "lr = LogisticRegression(max_iter=1000)\n",
    "lr.fit(X_train, y_train)\n",
    "\n",
    "# Predict\n",
    "y_pred = lr.predict(X_test)\n",
    "\n",
    "# Evaluate\n",
    "print(\"Accuracy:\", accuracy_score(y_test, y_pred))\n",
    "print(\"Confusion Matrix:\\n\", confusion_matrix(y_test, y_pred))\n",
    "print(\"Classification Report:\\n\", classification_report(y_test, y_pred))\n"
   ]
  },
  {
   "cell_type": "markdown",
   "id": "9700eb18",
   "metadata": {},
   "source": [
    "decision tree and random forest"
   ]
  },
  {
   "cell_type": "code",
   "execution_count": 17,
   "id": "919474cc",
   "metadata": {},
   "outputs": [
    {
     "name": "stdout",
     "output_type": "stream",
     "text": [
      "Decision Tree Accuracy: 0.9386666666666666\n",
      "Random Forest Accuracy: 0.9741666666666666\n"
     ]
    }
   ],
   "source": [
    "from sklearn.tree import DecisionTreeClassifier\n",
    "from sklearn.ensemble import RandomForestClassifier\n",
    "\n",
    "# Decision Tree\n",
    "dt = DecisionTreeClassifier()\n",
    "dt.fit(X_train, y_train)\n",
    "y_pred_dt = dt.predict(X_test)\n",
    "print(\"Decision Tree Accuracy:\", accuracy_score(y_test, y_pred_dt))\n",
    "\n",
    "# Random Forest\n",
    "rf = RandomForestClassifier()\n",
    "rf.fit(X_train, y_train)\n",
    "y_pred_rf = rf.predict(X_test)\n",
    "print(\"Random Forest Accuracy:\", accuracy_score(y_test, y_pred_rf))\n"
   ]
  },
  {
   "cell_type": "markdown",
   "id": "8cdf2ca9",
   "metadata": {},
   "source": [
    "KNN"
   ]
  },
  {
   "cell_type": "code",
   "execution_count": 18,
   "id": "a2803a18",
   "metadata": {},
   "outputs": [
    {
     "name": "stdout",
     "output_type": "stream",
     "text": [
      "KNN Accuracy: 0.8133333333333334\n"
     ]
    }
   ],
   "source": [
    "from sklearn.neighbors import KNeighborsClassifier\n",
    "\n",
    "knn = KNeighborsClassifier(n_neighbors=5)\n",
    "knn.fit(X_train, y_train)\n",
    "y_pred_knn = knn.predict(X_test)\n",
    "print(\"KNN Accuracy:\", accuracy_score(y_test, y_pred_knn))\n"
   ]
  },
  {
   "cell_type": "markdown",
   "id": "5228daf0",
   "metadata": {},
   "source": [
    "comparing all the models\n"
   ]
  },
  {
   "cell_type": "code",
   "execution_count": 19,
   "id": "31484dc5",
   "metadata": {},
   "outputs": [
    {
     "name": "stdout",
     "output_type": "stream",
     "text": [
      "                 Model  Accuracy  Precision    Recall  F1-Score\n",
      "0  Logistic Regression  0.884000   0.754630  0.476608  0.584229\n",
      "1        Decision Tree  0.938667   0.815739  0.828460  0.822050\n",
      "2        Random Forest  0.974167   0.983352  0.863548  0.919564\n",
      "3                  KNN  0.813333   0.250000  0.045809  0.077430\n"
     ]
    }
   ],
   "source": [
    "from sklearn.metrics import accuracy_score, precision_score, recall_score, f1_score\n",
    "import pandas as pd\n",
    "\n",
    "# Put your models in a dictionary\n",
    "models = {\n",
    "    \"Logistic Regression\": lr,\n",
    "    \"Decision Tree\": dt,\n",
    "    \"Random Forest\": rf,\n",
    "    \"KNN\": knn\n",
    "}\n",
    "\n",
    "# Prepare a list to store results\n",
    "results = []\n",
    "\n",
    "# Loop through each model\n",
    "for name, model in models.items():\n",
    "    y_pred = model.predict(X_test)  # predict on test set\n",
    "    results.append({\n",
    "        \"Model\": name,\n",
    "        \"Accuracy\": accuracy_score(y_test, y_pred),\n",
    "        \"Precision\": precision_score(y_test, y_pred),\n",
    "        \"Recall\": recall_score(y_test, y_pred),\n",
    "        \"F1-Score\": f1_score(y_test, y_pred)\n",
    "    })\n",
    "\n",
    "# Convert results to a DataFrame\n",
    "results_df = pd.DataFrame(results)\n",
    "\n",
    "# Show the comparison table\n",
    "print(results_df)\n"
   ]
  },
  {
   "cell_type": "markdown",
   "id": "4fd0cedb",
   "metadata": {},
   "source": [
    "best model"
   ]
  },
  {
   "cell_type": "code",
   "execution_count": 20,
   "id": "16f4682c",
   "metadata": {},
   "outputs": [
    {
     "name": "stdout",
     "output_type": "stream",
     "text": [
      "                 Model  Accuracy  Precision    Recall  F1-Score Best Model\n",
      "0  Logistic Regression  0.884000   0.754630  0.476608  0.584229           \n",
      "1        Decision Tree  0.938667   0.815739  0.828460  0.822050           \n",
      "2        Random Forest  0.974167   0.983352  0.863548  0.919564  <-- Best!\n",
      "3                  KNN  0.813333   0.250000  0.045809  0.077430           \n"
     ]
    }
   ],
   "source": [
    "# Find the model with the highest F1-Score\n",
    "best_model_idx = results_df['F1-Score'].idxmax()\n",
    "results_df['Best Model'] = \"\"  # create a new column\n",
    "results_df.loc[best_model_idx, 'Best Model'] = \"<-- Best!\"\n",
    "\n",
    "# Show the comparison table\n",
    "print(results_df)"
   ]
  },
  {
   "cell_type": "code",
   "execution_count": 21,
   "id": "39b4e5ff",
   "metadata": {},
   "outputs": [
    {
     "name": "stdout",
     "output_type": "stream",
     "text": [
      "The best model is: Random Forest\n"
     ]
    }
   ],
   "source": [
    "best_model_name = results_df.loc[best_model_idx, 'Model']  # assuming your column with model names is 'Model'\n",
    "print(\"The best model is:\", best_model_name)\n"
   ]
  },
  {
   "cell_type": "markdown",
   "id": "5266ba83",
   "metadata": {},
   "source": [
    "saving the best model"
   ]
  },
  {
   "cell_type": "code",
   "execution_count": 22,
   "id": "a44e595b",
   "metadata": {},
   "outputs": [
    {
     "name": "stdout",
     "output_type": "stream",
     "text": [
      "Saved Random Forest as best_model.pkl\n"
     ]
    }
   ],
   "source": [
    "import joblib\n",
    "\n",
    "# Assuming 'models' is a dictionary with model names as keys and trained model objects as values\n",
    "best_model_name = results_df.loc[best_model_idx, 'Model']\n",
    "best_model = models[best_model_name]  # get the trained model object\n",
    "\n",
    "# Save it\n",
    "joblib.dump(best_model, \"best_model.pkl\")\n",
    "print(f\"Saved {best_model_name} as best_model.pkl\")\n"
   ]
  }
 ],
 "metadata": {
  "kernelspec": {
   "display_name": "ml_virtualenv",
   "language": "python",
   "name": "python3"
  },
  "language_info": {
   "codemirror_mode": {
    "name": "ipython",
    "version": 3
   },
   "file_extension": ".py",
   "mimetype": "text/x-python",
   "name": "python",
   "nbconvert_exporter": "python",
   "pygments_lexer": "ipython3",
   "version": "3.11.9"
  }
 },
 "nbformat": 4,
 "nbformat_minor": 5
}
